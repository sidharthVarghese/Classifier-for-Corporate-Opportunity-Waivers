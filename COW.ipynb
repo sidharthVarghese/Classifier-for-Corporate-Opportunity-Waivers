{
 "cells": [
  {
   "cell_type": "code",
   "execution_count": 2,
   "id": "5daab88f",
   "metadata": {},
   "outputs": [],
   "source": [
    "import requests\n",
    "from bs4 import BeautifulSoup"
   ]
  },
  {
   "cell_type": "code",
   "execution_count": 38,
   "id": "a86a7b71",
   "metadata": {},
   "outputs": [
    {
     "name": "stdout",
     "output_type": "stream",
     "text": [
      "403\n",
      "Failed to retrieve data\n"
     ]
    }
   ],
   "source": [
    "url = \"https://www.sec.gov/\"\n",
    "response = requests.get(url)\n",
    "if response.status_code == 200:   \n",
    "    soup = BeautifulSoup(response.text, 'html.parser')\n",
    "else: \n",
    "    print(response.status_code)\n",
    "    print(\"Failed to retrieve data\")"
   ]
  },
  {
   "cell_type": "code",
   "execution_count": 12,
   "id": "ecaf2be1",
   "metadata": {},
   "outputs": [
    {
     "name": "stdout",
     "output_type": "stream",
     "text": [
      "2\n"
     ]
    }
   ],
   "source": [
    "\n",
    "\n",
    "\n",
    "\n",
    "\n",
    "\n",
    "\n",
    "\n",
    "\n",
    "\n",
    "\n",
    "import re\n",
    "\n",
    "def search_text(text):\n",
    "    pattern = re.compile(\n",
    "    r'(?:(?:corporate|commercial|business)\\s+\\S*opportun\\w*)'\n",
    "    r'(?=.*?(waiv\\w*|renounc\\w*|disclaim\\w*))',\n",
    "    re.IGNORECASE | re.DOTALL)\n",
    "    \n",
    "\n",
    "    # Find all matches in the text\n",
    "    matches = pattern.findall(text)\n",
    "    return matches\n",
    "\n",
    "# Example text\n",
    "text = \"\"\"\n",
    "    The corporate opportunity waiver was included in the company's bylaws.\n",
    "    Another section discusses business opportunities that directors might disclaim.\n",
    "    It is important to renounce any potential conflicts in commercial opportunities.\n",
    "    \"\"\"\n",
    "\n",
    "# Search the text using the defined function\n",
    "results = search_text(text)\n",
    "\n",
    "count = 0\n",
    "for result in results:\n",
    "    count+=1\n",
    "print(count)"
   ]
  },
  {
   "cell_type": "code",
   "execution_count": 14,
   "id": "57c43383",
   "metadata": {},
   "outputs": [
    {
     "name": "stdout",
     "output_type": "stream",
     "text": [
      "Line 2: The corporate opportunity waiver was included in the company's bylaws.\n",
      "Line 3: Another section discusses business opportunities that directors might disclaim.\n",
      "Line 5: Another section discusses business opportunities that directors might disclaim.\n"
     ]
    }
   ],
   "source": [
    "import re\n",
    "\n",
    "def search_text_with_line_numbers(text):\n",
    "    # Define the regular expression pattern\n",
    "    pattern = re.compile(\n",
    "        r'(?:(?:corporate|commercial|business)\\s+\\S*opportun\\w*)'\n",
    "        r'(?=.*?(waiv\\w*|renounc\\w*|disclaim\\w*))',\n",
    "        re.IGNORECASE | re.DOTALL\n",
    "    )\n",
    "   \n",
    "    # Split the text into lines\n",
    "    lines = text.split('\\n')\n",
    "    \n",
    "    matches = []\n",
    "    \n",
    "    # Iterate over each line with line numbers\n",
    "    for line_number, line in enumerate(lines, start=1):\n",
    "        # Search for the pattern in the line\n",
    "        if pattern.search(line):\n",
    "            matches.append((line_number, line))\n",
    "    \n",
    "    return matches\n",
    "\n",
    "# Example text\n",
    "text = \"\"\"\n",
    "The corporate opportunity waiver was included in the company's bylaws.\n",
    "Another section discusses business opportunities that directors might disclaim.\n",
    "It is important to renounce any potential conflicts in commercial opportunities.\n",
    "Another section discusses business opportunities that directors might disclaim.\n",
    "\"\"\"\n",
    "\n",
    "# Search the text using the defined function\n",
    "results = search_text_with_line_numbers(text)\n",
    "\n",
    "# Print the results\n",
    "for line_number, result in results:\n",
    "    print(f\"Line {line_number}: {result}\")\n"
   ]
  },
  {
   "cell_type": "code",
   "execution_count": 16,
   "id": "a0a16711",
   "metadata": {},
   "outputs": [
    {
     "name": "stdout",
     "output_type": "stream",
     "text": [
      "Sentence 1: \n",
      "The corporate opportunity waiver was included in the company's bylaws.\n",
      "Sentence 2: Another section discusses business opportunities that directors might disclaim.\n",
      "Sentence 3: It is important to renounce any potential conflicts in commercial opportunities.\n",
      "Sentence 4: The company's policy is to waive certain commercial opportunities.\n"
     ]
    },
    {
     "name": "stderr",
     "output_type": "stream",
     "text": [
      "[nltk_data] Downloading package punkt to\n",
      "[nltk_data]     C:\\Users\\sidha\\AppData\\Roaming\\nltk_data...\n",
      "[nltk_data]   Package punkt is already up-to-date!\n"
     ]
    }
   ],
   "source": [
    "import re\n",
    "import nltk\n",
    "from nltk.tokenize import sent_tokenize\n",
    "\n",
    "# Ensure you have the necessary NLTK data files\n",
    "nltk.download('punkt')\n",
    "\n",
    "def search_text_with_line_numbers(text):\n",
    "    # Split text into sentences\n",
    "    sentences = sent_tokenize(text)\n",
    "    \n",
    "    # Define the regular expression pattern\n",
    "    pattern = re.compile(\n",
    "        r'(?=.*?(corporate|commercial|business)\\s+\\S*opportun\\w*)'\n",
    "        r'(?=.*?(waiv\\w*|renounc\\w*|disclaim\\w*))',\n",
    "        re.IGNORECASE | re.DOTALL\n",
    "    )\n",
    "    \n",
    "    matches = []\n",
    "    \n",
    "    # Iterate over each sentence with line numbers\n",
    "    for line_number, sentence in enumerate(sentences, start=1):\n",
    "        # Search for the pattern in the sentence\n",
    "        if pattern.search(sentence):\n",
    "            matches.append((line_number, sentence))\n",
    "    \n",
    "    return matches\n",
    "\n",
    "# Example text\n",
    "text = \"\"\"\n",
    "The corporate opportunity waiver was included in the company's bylaws.\n",
    "Another section discusses business opportunities that directors might disclaim.\n",
    "It is important to renounce any potential conflicts in commercial opportunities.\n",
    "The company's policy is to waive certain commercial opportunities.\n",
    "\"\"\"\n",
    "\n",
    "# Search the text using the defined function\n",
    "results = search_text_with_line_numbers(text)\n",
    "\n",
    "# Print the results\n",
    "for line_number, result in results:\n",
    "    print(f\"Sentence {line_number}: {result}\")\n"
   ]
  },
  {
   "cell_type": "code",
   "execution_count": 31,
   "id": "7175b651",
   "metadata": {},
   "outputs": [
    {
     "name": "stdout",
     "output_type": "stream",
     "text": [
      "Line 902: risks have occurred at the time of this filing. Tesla disclaims any obligation to update any forward-looking statement contained in this\n",
      "Line 903: document.</P>\n",
      "Line 904: The corporate opportunity waiver was included in the company's bylaws.\n",
      "Line 905: #Another section discusses business opportunities that directors might disclaim.\n",
      "Line 906: #It is important to renounce any potential conflicts in commercial opportunities.\n",
      "Line 907: #The company's policy is to waive certain commercial opportunities.\n",
      "Line 908: #Directors must adhere to their fiduciary duty of loyalty to the company.\n",
      "Line 909: \n",
      "Line 910: <P STYLE=\"text-align: left; font: 10pt Times New Roman, Times, Serif; margin: 0pt 0\">&nbsp;</P>\n"
     ]
    }
   ],
   "source": [
    "import re\n",
    "\n",
    "def search(text):\n",
    "    # Split the text into lines\n",
    "    lines = text.split('\\n')\n",
    "    \n",
    "    # Define the regular expression patterns\n",
    "    opportunity_pattern = re.compile(r'(corporate|commercial|business)\\s+\\S*opportun\\w*', re.IGNORECASE)\n",
    "    action_pattern = re.compile(r'(waiv\\w*|renounc\\w*|disclaim\\w*)', re.IGNORECASE)\n",
    "    fiduciary_pattern = re.compile(r'fiduciary\\s+(duty|loyalty)', re.IGNORECASE)\n",
    "    \n",
    "    matches = []\n",
    "    \n",
    "    # Iterate over each line with line numbers\n",
    "    for line_number in range(len(lines)):\n",
    "        # Get the current line and its context (previous two and next two lines)\n",
    "        context = lines[max(0, line_number-2):line_number+3]\n",
    "        context_text = \" \".join(context)\n",
    "        \n",
    "        # Search for the patterns in the context\n",
    "        if (opportunity_pattern.search(context_text) and action_pattern.search(context_text)) or fiduciary_pattern.search(context_text):\n",
    "            matches.append((line_number + 1, lines[line_number]))\n",
    "    \n",
    "    return matches\n",
    "\n",
    "\n",
    "for line_number, result in results:\n",
    "    print(f\"Line {line_number}: {result}\")\n"
   ]
  },
  {
   "cell_type": "code",
   "execution_count": null,
   "id": "cf78678a",
   "metadata": {},
   "outputs": [],
   "source": [
    "# Example text\n",
    "\n",
    "#text = \"\"\"\n",
    "#The corporate opportunity waiver was included in the company's bylaws.\n",
    "#Another section discusses business opportunities that directors might disclaim.\n",
    "#It is important to renounce any potential conflicts in commercial opportunities.\n",
    "#The company's policy is to waive certain commercial opportunities.\n",
    "#Directors must adhere to their fiduciary duty of loyalty to the company.\n",
    "\n",
    "#file_path = 'Tesla_DEFA.html'\n",
    "#with open(file_path, 'r', encoding='utf-8') as file:\n",
    " #   text = file.read()\n",
    "#f = open(\"Tesla_DEFA.html\", \"r\")\n",
    "#results = search(text)\n",
    "# Print the results"
   ]
  },
  {
   "cell_type": "code",
   "execution_count": 37,
   "id": "b34f3728",
   "metadata": {},
   "outputs": [
    {
     "name": "stdout",
     "output_type": "stream",
     "text": [
      "Line 902: risks have occurred at the time of this filing. Tesla disclaims any obligation to update any forward-looking statement contained in this\n",
      "Line 903: document.</P>\n",
      "Line 904: The corporate opportunity waiver was included in the company's bylaws.\n",
      "Line 905: #Another section discusses business opportunities that directors might disclaim.\n",
      "Line 906: #It is important to renounce any potential conflicts in commercial opportunities.\n",
      "Line 907: #The company's policy is to waive certain commercial opportunities.\n",
      "Line 908: #Directors must adhere to their fiduciary duty of loyalty to the company.\n",
      "Line 909: \n",
      "Line 910: <P STYLE=\"text-align: left; font: 10pt Times New Roman, Times, Serif; margin: 0pt 0\">&nbsp;</P>\n"
     ]
    }
   ],
   "source": [
    "import re\n",
    "\n",
    "def search(text):\n",
    "    \n",
    "    lines = text.split('\\n')\n",
    "    \n",
    "    opportunityPattern = re.compile(r'(corporate|commercial|business)\\s+\\S*opportun\\w*', re.IGNORECASE)\n",
    "    actionPattern = re.compile(r'(waiv\\w*|renounc\\w*|disclaim\\w*)', re.IGNORECASE)\n",
    "    fiduciaryPattern = re.compile(r'fiduciary\\s+(duty|loyalty)', re.IGNORECASE)\n",
    "    \n",
    "    matches = []\n",
    "       \n",
    "    for lineNumber in range(len(lines)):\n",
    "        context = lines[max(0, lineNumber-2):lineNumber+3]\n",
    "        contextText = \" \".join(context)\n",
    "        \n",
    "        if (opportunityPattern.search(contextText) and actionPattern.search(contextText)) or fiduciaryPattern.search(contextText):\n",
    "            matches.append((lineNumber + 1, lines[lineNumber]))\n",
    "    \n",
    "    return matches\n",
    "\n",
    "f = open(\"Tesla_DEFA.html\", \"r\")\n",
    "values = search(text)\n",
    "\n",
    "for lineNumber, value in values:\n",
    "    print(f\"Line {lineNumber}: {value}\")"
   ]
  },
  {
   "cell_type": "code",
   "execution_count": null,
   "id": "fd755d1f",
   "metadata": {},
   "outputs": [],
   "source": [
    "from sec_api import QueryApi\n",
    "\n",
    "queryApi = QueryApi(api_key=\"YOUR_API_KEY\")\n",
    "\n",
    "query = {\n",
    "  \"query\": { \"query_string\": { \n",
    "      \"query\": \"formType:\\\"10-K\\\" AND filedAt:{2019-01-01 TO 2021-06-20}\" \n",
    "    } },\n",
    "  \"from\": \"0\",\n",
    "  \"size\": \"10\",\n",
    "  \"sort\": [{ \"filedAt\": { \"order\": \"desc\" } }]\n",
    "}\n",
    "\n",
    "filings = queryApi.get_filings(query)\n",
    "\n",
    "print(filings)"
   ]
  },
  {
   "cell_type": "code",
   "execution_count": 1,
   "id": "f3ac178f",
   "metadata": {},
   "outputs": [
    {
     "name": "stdout",
     "output_type": "stream",
     "text": [
      "Collecting sec-api\n",
      "  Obtaining dependency information for sec-api from https://files.pythonhosted.org/packages/55/6c/c14542e2af586a83bf9fa730148fdb285fbe8132b629a38996f9e56a0d5c/sec_api-1.0.18-py3-none-any.whl.metadata\n",
      "  Downloading sec_api-1.0.18-py3-none-any.whl.metadata (43 kB)\n",
      "     ---------------------------------------- 0.0/43.7 kB ? eta -:--:--\n",
      "     ----------------- -------------------- 20.5/43.7 kB 330.3 kB/s eta 0:00:01\n",
      "     ----------------------------------- -- 41.0/43.7 kB 495.5 kB/s eta 0:00:01\n",
      "     -------------------------------------- 43.7/43.7 kB 355.8 kB/s eta 0:00:00\n",
      "Requirement already satisfied: requests in c:\\users\\sidha\\anaconda2\\lib\\site-packages (from sec-api) (2.31.0)\n",
      "Requirement already satisfied: charset-normalizer<4,>=2 in c:\\users\\sidha\\anaconda2\\lib\\site-packages (from requests->sec-api) (2.0.4)\n",
      "Requirement already satisfied: idna<4,>=2.5 in c:\\users\\sidha\\anaconda2\\lib\\site-packages (from requests->sec-api) (3.4)\n",
      "Requirement already satisfied: urllib3<3,>=1.21.1 in c:\\users\\sidha\\anaconda2\\lib\\site-packages (from requests->sec-api) (1.26.16)\n",
      "Requirement already satisfied: certifi>=2017.4.17 in c:\\users\\sidha\\anaconda2\\lib\\site-packages (from requests->sec-api) (2024.2.2)\n",
      "Downloading sec_api-1.0.18-py3-none-any.whl (17 kB)\n",
      "Installing collected packages: sec-api\n",
      "Successfully installed sec-api-1.0.18\n",
      "Note: you may need to restart the kernel to use updated packages.\n"
     ]
    }
   ],
   "source": [
    "pip install sec-api\n"
   ]
  }
 ],
 "metadata": {
  "kernelspec": {
   "display_name": "Python 3 (ipykernel)",
   "language": "python",
   "name": "python3"
  },
  "language_info": {
   "codemirror_mode": {
    "name": "ipython",
    "version": 3
   },
   "file_extension": ".py",
   "mimetype": "text/x-python",
   "name": "python",
   "nbconvert_exporter": "python",
   "pygments_lexer": "ipython3",
   "version": "3.11.5"
  }
 },
 "nbformat": 4,
 "nbformat_minor": 5
}
